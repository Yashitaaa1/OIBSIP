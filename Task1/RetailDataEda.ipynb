{
 "cells": [
  {
   "cell_type": "markdown",
   "id": "8a0c537f",
   "metadata": {},
   "source": [
    "# Task 1 - EDA on Retail Sales Data\n",
    "\n",
    "Name:-Yashita Aggarwal\n",
    "\n",
    "Domain:-Data Analytics\n",
    "\n",
    "Oasis Infobyte Virtual Internship program"
   ]
  },
  {
   "cell_type": "markdown",
   "id": "bda92ae8",
   "metadata": {},
   "source": [
    "IMPORTING IMPORTANT LIBRARIES"
   ]
  },
  {
   "cell_type": "code",
   "execution_count": 9,
   "id": "99d1f121",
   "metadata": {},
   "outputs": [],
   "source": [
    "import numpy as np\n",
    "import pandas as pd\n",
    "import matplotlib.pyplot as plt\n",
    "import seaborn as sns"
   ]
  },
  {
   "cell_type": "markdown",
   "id": "267e8dea",
   "metadata": {},
   "source": [
    "Loading the Dataset"
   ]
  },
  {
   "cell_type": "code",
   "execution_count": 23,
   "id": "37b4ea3e",
   "metadata": {},
   "outputs": [
    {
     "data": {
      "text/html": [
       "<div>\n",
       "<style scoped>\n",
       "    .dataframe tbody tr th:only-of-type {\n",
       "        vertical-align: middle;\n",
       "    }\n",
       "\n",
       "    .dataframe tbody tr th {\n",
       "        vertical-align: top;\n",
       "    }\n",
       "\n",
       "    .dataframe thead th {\n",
       "        text-align: right;\n",
       "    }\n",
       "</style>\n",
       "<table border=\"1\" class=\"dataframe\">\n",
       "  <thead>\n",
       "    <tr style=\"text-align: right;\">\n",
       "      <th></th>\n",
       "      <th>Transaction ID</th>\n",
       "      <th>Date</th>\n",
       "      <th>Customer ID</th>\n",
       "      <th>Gender</th>\n",
       "      <th>Age</th>\n",
       "      <th>Product Category</th>\n",
       "      <th>Quantity</th>\n",
       "      <th>Price per Unit</th>\n",
       "      <th>Total Amount</th>\n",
       "    </tr>\n",
       "  </thead>\n",
       "  <tbody>\n",
       "    <tr>\n",
       "      <th>0</th>\n",
       "      <td>1</td>\n",
       "      <td>2023-11-24</td>\n",
       "      <td>CUST001</td>\n",
       "      <td>Male</td>\n",
       "      <td>34</td>\n",
       "      <td>Beauty</td>\n",
       "      <td>3</td>\n",
       "      <td>50</td>\n",
       "      <td>150</td>\n",
       "    </tr>\n",
       "    <tr>\n",
       "      <th>1</th>\n",
       "      <td>2</td>\n",
       "      <td>2023-02-27</td>\n",
       "      <td>CUST002</td>\n",
       "      <td>Female</td>\n",
       "      <td>26</td>\n",
       "      <td>Clothing</td>\n",
       "      <td>2</td>\n",
       "      <td>500</td>\n",
       "      <td>1000</td>\n",
       "    </tr>\n",
       "    <tr>\n",
       "      <th>2</th>\n",
       "      <td>3</td>\n",
       "      <td>2023-01-13</td>\n",
       "      <td>CUST003</td>\n",
       "      <td>Male</td>\n",
       "      <td>50</td>\n",
       "      <td>Electronics</td>\n",
       "      <td>1</td>\n",
       "      <td>30</td>\n",
       "      <td>30</td>\n",
       "    </tr>\n",
       "    <tr>\n",
       "      <th>3</th>\n",
       "      <td>4</td>\n",
       "      <td>2023-05-21</td>\n",
       "      <td>CUST004</td>\n",
       "      <td>Male</td>\n",
       "      <td>37</td>\n",
       "      <td>Clothing</td>\n",
       "      <td>1</td>\n",
       "      <td>500</td>\n",
       "      <td>500</td>\n",
       "    </tr>\n",
       "    <tr>\n",
       "      <th>4</th>\n",
       "      <td>5</td>\n",
       "      <td>2023-05-06</td>\n",
       "      <td>CUST005</td>\n",
       "      <td>Male</td>\n",
       "      <td>30</td>\n",
       "      <td>Beauty</td>\n",
       "      <td>2</td>\n",
       "      <td>50</td>\n",
       "      <td>100</td>\n",
       "    </tr>\n",
       "  </tbody>\n",
       "</table>\n",
       "</div>"
      ],
      "text/plain": [
       "   Transaction ID        Date Customer ID  Gender  Age Product Category  \\\n",
       "0               1  2023-11-24     CUST001    Male   34           Beauty   \n",
       "1               2  2023-02-27     CUST002  Female   26         Clothing   \n",
       "2               3  2023-01-13     CUST003    Male   50      Electronics   \n",
       "3               4  2023-05-21     CUST004    Male   37         Clothing   \n",
       "4               5  2023-05-06     CUST005    Male   30           Beauty   \n",
       "\n",
       "   Quantity  Price per Unit  Total Amount  \n",
       "0         3              50           150  \n",
       "1         2             500          1000  \n",
       "2         1              30            30  \n",
       "3         1             500           500  \n",
       "4         2              50           100  "
      ]
     },
     "execution_count": 23,
     "metadata": {},
     "output_type": "execute_result"
    }
   ],
   "source": [
    "df=pd.read_csv('retail_sales_dataset.csv') #Top Five rows\n",
    "df.head()"
   ]
  },
  {
   "cell_type": "code",
   "execution_count": 25,
   "id": "d16a8c30",
   "metadata": {},
   "outputs": [
    {
     "data": {
      "text/plain": [
       "(1000, 9)"
      ]
     },
     "execution_count": 25,
     "metadata": {},
     "output_type": "execute_result"
    }
   ],
   "source": [
    "df.shape"
   ]
  },
  {
   "cell_type": "code",
   "execution_count": 27,
   "id": "44953eb9",
   "metadata": {},
   "outputs": [
    {
     "data": {
      "text/plain": [
       "9000"
      ]
     },
     "execution_count": 27,
     "metadata": {},
     "output_type": "execute_result"
    }
   ],
   "source": [
    "df.size"
   ]
  },
  {
   "cell_type": "code",
   "execution_count": 29,
   "id": "a207fd6b",
   "metadata": {},
   "outputs": [
    {
     "data": {
      "text/plain": [
       "Index(['Transaction ID', 'Date', 'Customer ID', 'Gender', 'Age',\n",
       "       'Product Category', 'Quantity', 'Price per Unit', 'Total Amount'],\n",
       "      dtype='object')"
      ]
     },
     "execution_count": 29,
     "metadata": {},
     "output_type": "execute_result"
    }
   ],
   "source": [
    "df.columns #Shows the name of all the columns"
   ]
  },
  {
   "cell_type": "code",
   "execution_count": 31,
   "id": "9daadee5",
   "metadata": {},
   "outputs": [
    {
     "name": "stdout",
     "output_type": "stream",
     "text": [
      "<class 'pandas.core.frame.DataFrame'>\n",
      "RangeIndex: 1000 entries, 0 to 999\n",
      "Data columns (total 9 columns):\n",
      " #   Column            Non-Null Count  Dtype \n",
      "---  ------            --------------  ----- \n",
      " 0   Transaction ID    1000 non-null   int64 \n",
      " 1   Date              1000 non-null   object\n",
      " 2   Customer ID       1000 non-null   object\n",
      " 3   Gender            1000 non-null   object\n",
      " 4   Age               1000 non-null   int64 \n",
      " 5   Product Category  1000 non-null   object\n",
      " 6   Quantity          1000 non-null   int64 \n",
      " 7   Price per Unit    1000 non-null   int64 \n",
      " 8   Total Amount      1000 non-null   int64 \n",
      "dtypes: int64(5), object(4)\n",
      "memory usage: 70.4+ KB\n"
     ]
    }
   ],
   "source": [
    "df.info() #Shows the number of Non NULL Values and data types of each column"
   ]
  },
  {
   "cell_type": "markdown",
   "id": "3a290670",
   "metadata": {},
   "source": [
    "# Descriptive Analysis"
   ]
  },
  {
   "cell_type": "code",
   "execution_count": 34,
   "id": "dda9ed19",
   "metadata": {},
   "outputs": [
    {
     "data": {
      "text/html": [
       "<div>\n",
       "<style scoped>\n",
       "    .dataframe tbody tr th:only-of-type {\n",
       "        vertical-align: middle;\n",
       "    }\n",
       "\n",
       "    .dataframe tbody tr th {\n",
       "        vertical-align: top;\n",
       "    }\n",
       "\n",
       "    .dataframe thead th {\n",
       "        text-align: right;\n",
       "    }\n",
       "</style>\n",
       "<table border=\"1\" class=\"dataframe\">\n",
       "  <thead>\n",
       "    <tr style=\"text-align: right;\">\n",
       "      <th></th>\n",
       "      <th>Transaction ID</th>\n",
       "      <th>Age</th>\n",
       "      <th>Quantity</th>\n",
       "      <th>Price per Unit</th>\n",
       "      <th>Total Amount</th>\n",
       "    </tr>\n",
       "  </thead>\n",
       "  <tbody>\n",
       "    <tr>\n",
       "      <th>count</th>\n",
       "      <td>1000.000000</td>\n",
       "      <td>1000.00000</td>\n",
       "      <td>1000.000000</td>\n",
       "      <td>1000.000000</td>\n",
       "      <td>1000.000000</td>\n",
       "    </tr>\n",
       "    <tr>\n",
       "      <th>mean</th>\n",
       "      <td>500.500000</td>\n",
       "      <td>41.39200</td>\n",
       "      <td>2.514000</td>\n",
       "      <td>179.890000</td>\n",
       "      <td>456.000000</td>\n",
       "    </tr>\n",
       "    <tr>\n",
       "      <th>std</th>\n",
       "      <td>288.819436</td>\n",
       "      <td>13.68143</td>\n",
       "      <td>1.132734</td>\n",
       "      <td>189.681356</td>\n",
       "      <td>559.997632</td>\n",
       "    </tr>\n",
       "    <tr>\n",
       "      <th>min</th>\n",
       "      <td>1.000000</td>\n",
       "      <td>18.00000</td>\n",
       "      <td>1.000000</td>\n",
       "      <td>25.000000</td>\n",
       "      <td>25.000000</td>\n",
       "    </tr>\n",
       "    <tr>\n",
       "      <th>25%</th>\n",
       "      <td>250.750000</td>\n",
       "      <td>29.00000</td>\n",
       "      <td>1.000000</td>\n",
       "      <td>30.000000</td>\n",
       "      <td>60.000000</td>\n",
       "    </tr>\n",
       "    <tr>\n",
       "      <th>50%</th>\n",
       "      <td>500.500000</td>\n",
       "      <td>42.00000</td>\n",
       "      <td>3.000000</td>\n",
       "      <td>50.000000</td>\n",
       "      <td>135.000000</td>\n",
       "    </tr>\n",
       "    <tr>\n",
       "      <th>75%</th>\n",
       "      <td>750.250000</td>\n",
       "      <td>53.00000</td>\n",
       "      <td>4.000000</td>\n",
       "      <td>300.000000</td>\n",
       "      <td>900.000000</td>\n",
       "    </tr>\n",
       "    <tr>\n",
       "      <th>max</th>\n",
       "      <td>1000.000000</td>\n",
       "      <td>64.00000</td>\n",
       "      <td>4.000000</td>\n",
       "      <td>500.000000</td>\n",
       "      <td>2000.000000</td>\n",
       "    </tr>\n",
       "  </tbody>\n",
       "</table>\n",
       "</div>"
      ],
      "text/plain": [
       "       Transaction ID         Age     Quantity  Price per Unit  Total Amount\n",
       "count     1000.000000  1000.00000  1000.000000     1000.000000   1000.000000\n",
       "mean       500.500000    41.39200     2.514000      179.890000    456.000000\n",
       "std        288.819436    13.68143     1.132734      189.681356    559.997632\n",
       "min          1.000000    18.00000     1.000000       25.000000     25.000000\n",
       "25%        250.750000    29.00000     1.000000       30.000000     60.000000\n",
       "50%        500.500000    42.00000     3.000000       50.000000    135.000000\n",
       "75%        750.250000    53.00000     4.000000      300.000000    900.000000\n",
       "max       1000.000000    64.00000     4.000000      500.000000   2000.000000"
      ]
     },
     "execution_count": 34,
     "metadata": {},
     "output_type": "execute_result"
    }
   ],
   "source": [
    "df.describe()"
   ]
  },
  {
   "cell_type": "code",
   "execution_count": 36,
   "id": "f0d94b7f",
   "metadata": {},
   "outputs": [
    {
     "name": "stdout",
     "output_type": "stream",
     "text": [
      "Total Quantity of product Sold: 2514\n",
      "Total Amount of Sales generated: 456000\n"
     ]
    }
   ],
   "source": [
    "print(\"Total Quantity of product Sold:\",df['Quantity'].sum())\n",
    "print('Total Amount of Sales generated:',df['Total Amount'].sum())"
   ]
  },
  {
   "cell_type": "markdown",
   "id": "01b6c09b",
   "metadata": {},
   "source": [
    "Check for NULL Values"
   ]
  },
  {
   "cell_type": "code",
   "execution_count": 39,
   "id": "7deca10a",
   "metadata": {},
   "outputs": [
    {
     "data": {
      "text/plain": [
       "Transaction ID      0\n",
       "Date                0\n",
       "Customer ID         0\n",
       "Gender              0\n",
       "Age                 0\n",
       "Product Category    0\n",
       "Quantity            0\n",
       "Price per Unit      0\n",
       "Total Amount        0\n",
       "dtype: int64"
      ]
     },
     "execution_count": 39,
     "metadata": {},
     "output_type": "execute_result"
    }
   ],
   "source": [
    "df.isnull().sum()"
   ]
  },
  {
   "cell_type": "code",
   "execution_count": 41,
   "id": "4fbcbb92",
   "metadata": {},
   "outputs": [
    {
     "name": "stdout",
     "output_type": "stream",
     "text": [
      "Total number of duplicate values in the dataset is: 0\n"
     ]
    }
   ],
   "source": [
    "print('Total number of duplicate values in the dataset is:',df.duplicated().sum())"
   ]
  },
  {
   "cell_type": "markdown",
   "id": "a0764a9a",
   "metadata": {},
   "source": [
    "# Lets Visualise the Dataset Graphically"
   ]
  },
  {
   "cell_type": "code",
   "execution_count": 44,
   "id": "90e79e8d",
   "metadata": {},
   "outputs": [
    {
     "data": {
      "text/plain": [
       "array(['Beauty', 'Clothing', 'Electronics'], dtype=object)"
      ]
     },
     "execution_count": 44,
     "metadata": {},
     "output_type": "execute_result"
    }
   ],
   "source": [
    "df['Product Category'].unique()"
   ]
  },
  {
   "cell_type": "code",
   "execution_count": 46,
   "id": "8bd2f7af",
   "metadata": {},
   "outputs": [
    {
     "data": {
      "text/plain": [
       "Product Category\n",
       "Clothing       351\n",
       "Electronics    342\n",
       "Beauty         307\n",
       "Name: count, dtype: int64"
      ]
     },
     "execution_count": 46,
     "metadata": {},
     "output_type": "execute_result"
    }
   ],
   "source": [
    "df['Product Category'].value_counts() #Prints the count of every unique value"
   ]
  },
  {
   "cell_type": "code",
   "execution_count": 48,
   "id": "b6aba1b9",
   "metadata": {},
   "outputs": [
    {
     "data": {
      "text/plain": [
       "Text(0.5, 1.0, 'Count Plot')"
      ]
     },
     "execution_count": 48,
     "metadata": {},
     "output_type": "execute_result"
    },
    {
     "data": {
      "image/png": "[encoded data removed]",
      "text/plain": [
       "<Figure size 640x480 with 1 Axes>"
      ]
     },
     "metadata": {},
     "output_type": "display_data"
    }
   ],
   "source": [
    "sns.countplot(x=df['Product Category'])\n",
    "plt.xlabel('Product Category',color='r',size=12)\n",
    "plt.title('Count Plot',color='g',size=14)"
   ]
  },
  {
   "cell_type": "code",
   "execution_count": 50,
   "id": "3799ba94",
   "metadata": {},
   "outputs": [
    {
     "data": {
      "text/html": [
       "<div>\n",
       "<style scoped>\n",
       "    .dataframe tbody tr th:only-of-type {\n",
       "        vertical-align: middle;\n",
       "    }\n",
       "\n",
       "    .dataframe tbody tr th {\n",
       "        vertical-align: top;\n",
       "    }\n",
       "\n",
       "    .dataframe thead th {\n",
       "        text-align: right;\n",
       "    }\n",
       "</style>\n",
       "<table border=\"1\" class=\"dataframe\">\n",
       "  <thead>\n",
       "    <tr style=\"text-align: right;\">\n",
       "      <th></th>\n",
       "      <th>Quantity</th>\n",
       "      <th>Total Amount</th>\n",
       "    </tr>\n",
       "    <tr>\n",
       "      <th>Product Category</th>\n",
       "      <th></th>\n",
       "      <th></th>\n",
       "    </tr>\n",
       "  </thead>\n",
       "  <tbody>\n",
       "    <tr>\n",
       "      <th>Beauty</th>\n",
       "      <td>771</td>\n",
       "      <td>143515</td>\n",
       "    </tr>\n",
       "    <tr>\n",
       "      <th>Clothing</th>\n",
       "      <td>894</td>\n",
       "      <td>155580</td>\n",
       "    </tr>\n",
       "    <tr>\n",
       "      <th>Electronics</th>\n",
       "      <td>849</td>\n",
       "      <td>156905</td>\n",
       "    </tr>\n",
       "  </tbody>\n",
       "</table>\n",
       "</div>"
      ],
      "text/plain": [
       "                  Quantity  Total Amount\n",
       "Product Category                        \n",
       "Beauty                 771        143515\n",
       "Clothing               894        155580\n",
       "Electronics            849        156905"
      ]
     },
     "execution_count": 50,
     "metadata": {},
     "output_type": "execute_result"
    }
   ],
   "source": [
    "df.groupby('Product Category')[['Quantity','Total Amount']].sum()"
   ]
  },
  {
   "cell_type": "code",
   "execution_count": 52,
   "id": "dcdcb95e",
   "metadata": {},
   "outputs": [
    {
     "data": {
      "text/plain": [
       "Product Category\n",
       "Beauty         771\n",
       "Clothing       894\n",
       "Electronics    849\n",
       "Name: Quantity, dtype: int64"
      ]
     },
     "execution_count": 52,
     "metadata": {},
     "output_type": "execute_result"
    }
   ],
   "source": [
    "result1=df.groupby('Product Category')['Quantity'].sum()\n",
    "result1"
   ]
  },
  {
   "cell_type": "code",
   "execution_count": 54,
   "id": "db832537",
   "metadata": {},
   "outputs": [
    {
     "data": {
      "text/plain": [
       "Text(0.5, 1.0, 'Quantity VS Product category')"
      ]
     },
     "execution_count": 54,
     "metadata": {},
     "output_type": "execute_result"
    },
    {
     "data": {
      "image/png": "[encoded data removed]",
      "text/plain": [
       "<Figure size 640x480 with 1 Axes>"
      ]
     },
     "metadata": {},
     "output_type": "display_data"
    }
   ],
   "source": [
    "result1.plot(kind='bar',color='y')\n",
    "plt.xlabel('Product Category',color='r',size=12)\n",
    "plt.ylabel('Total Quantity of product sold',color='r',size=12)\n",
    "plt.title('Quantity VS Product category',color='g',size=14)"
   ]
  },
  {
   "cell_type": "markdown",
   "id": "b612606b",
   "metadata": {},
   "source": [
    "1.Maximum Product sold is Clothing items                                                                                      \n",
    "\n",
    "\n",
    "2.Minimum product sold is Beauty items"
   ]
  },
  {
   "cell_type": "code",
   "execution_count": 57,
   "id": "38c694a8",
   "metadata": {},
   "outputs": [
    {
     "data": {
      "text/plain": [
       "Product Category\n",
       "Beauty         143515\n",
       "Clothing       155580\n",
       "Electronics    156905\n",
       "Name: Total Amount, dtype: int64"
      ]
     },
     "execution_count": 57,
     "metadata": {},
     "output_type": "execute_result"
    }
   ],
   "source": [
    "result2=df.groupby('Product Category')['Total Amount'].sum()\n",
    "result2"
   ]
  },
  {
   "cell_type": "code",
   "execution_count": 59,
   "id": "3b864a6f",
   "metadata": {},
   "outputs": [
    {
     "data": {
      "text/plain": [
       "Text(0.5, 1.0, 'Total Amount VS Product category')"
      ]
     },
     "execution_count": 59,
     "metadata": {},
     "output_type": "execute_result"
    },
    {
     "data": {
      "image/png": "[encoded data removed]",
      "text/plain": [
       "<Figure size 640x480 with 1 Axes>"
      ]
     },
     "metadata": {},
     "output_type": "display_data"
    }
   ],
   "source": [
    "result2.plot(kind='bar',color='b')\n",
    "plt.xlabel('Product Category',color='r',size=12)\n",
    "plt.ylabel('Total Amount',color='r',size=12)\n",
    "plt.title('Total Amount VS Product category',color='g',size=13)"
   ]
  },
  {
   "cell_type": "markdown",
   "id": "06a94292",
   "metadata": {},
   "source": [
    "1.Maximum Amount is obtained from Clothing products\n",
    "\n",
    "2.Minimum Amount is obtained from Beauty product"
   ]
  },
  {
   "cell_type": "markdown",
   "id": "64508115",
   "metadata": {},
   "source": [
    "# Pie Plot"
   ]
  },
  {
   "cell_type": "code",
   "execution_count": 63,
   "id": "54c025a3",
   "metadata": {},
   "outputs": [
    {
     "name": "stdout",
     "output_type": "stream",
     "text": [
      "Product Category\n",
      "Clothing       351\n",
      "Electronics    342\n",
      "Beauty         307\n",
      "Name: count, dtype: int64\n"
     ]
    }
   ],
   "source": [
    "slices=df['Product Category'].value_counts()\n",
    "print(slices)\n",
    "categories=['Clothing','Electronics','Beauty']"
   ]
  },
  {
   "cell_type": "code",
   "execution_count": 65,
   "id": "df52856c",
   "metadata": {},
   "outputs": [
    {
     "data": {
      "text/plain": [
       "Text(0.5, 1.0, 'Product category')"
      ]
     },
     "execution_count": 65,
     "metadata": {},
     "output_type": "execute_result"
    },
    {
     "data": {
      "image/png": "[encoded data removed]",
      "text/plain": [
       "<Figure size 640x480 with 1 Axes>"
      ]
     },
     "metadata": {},
     "output_type": "display_data"
    }
   ],
   "source": [
    "plt.pie(slices,startangle=90,explode=(0,0,0.1),labels=categories,autopct='%1.1f%%')\n",
    "plt.title('Product category',color='r')\n",
    "#autopct represent the percentage and 1.1 represent after integer only one decimal should print"
   ]
  },
  {
   "cell_type": "code",
   "execution_count": 67,
   "id": "5597b1bc",
   "metadata": {},
   "outputs": [
    {
     "data": {
      "text/plain": [
       "Gender\n",
       "Female    510\n",
       "Male      490\n",
       "Name: count, dtype: int64"
      ]
     },
     "execution_count": 67,
     "metadata": {},
     "output_type": "execute_result"
    }
   ],
   "source": [
    "gen=df['Gender'].value_counts()\n",
    "gen"
   ]
  },
  {
   "cell_type": "code",
   "execution_count": 69,
   "id": "b439ca41",
   "metadata": {},
   "outputs": [
    {
     "data": {
      "text/plain": [
       "Text(0.5, 1.0, 'Gender')"
      ]
     },
     "execution_count": 69,
     "metadata": {},
     "output_type": "execute_result"
    },
    {
     "data": {
      "image/png": "[encoded data removed]",
      "text/plain": [
       "<Figure size 640x480 with 1 Axes>"
      ]
     },
     "metadata": {},
     "output_type": "display_data"
    }
   ],
   "source": [
    "plt.pie(gen,labels=['Female','Male'],explode=(0,0.1),startangle=90,autopct='%1.1f%%')\n",
    "plt.title('Gender',color='r')"
   ]
  },
  {
   "cell_type": "code",
   "execution_count": null,
   "id": "9cc09f25-0131-458e-9dad-2a48600acf32",
   "metadata": {},
   "outputs": [],
   "source": []
  },
  {
   "cell_type": "code",
   "execution_count": null,
   "id": "ec60fa42-a56e-486b-bcd6-553a771980f5",
   "metadata": {},
   "outputs": [],
   "source": []
  }
 ],
 "metadata": {
  "kernelspec": {
   "display_name": "Python 3 (ipykernel)",
   "language": "python",
   "name": "python3"
  },
  "language_info": {
   "codemirror_mode": {
    "name": "ipython",
    "version": 3
   },
   "file_extension": ".py",
   "mimetype": "text/x-python",
   "name": "python",
   "nbconvert_exporter": "python",
   "pygments_lexer": "ipython3",
   "version": "3.11.7"
  }
 },
 "nbformat": 4,
 "nbformat_minor": 5
}
